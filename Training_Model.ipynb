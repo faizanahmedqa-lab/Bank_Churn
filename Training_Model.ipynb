{
 "cells": [
  {
   "cell_type": "markdown",
   "id": "9688ee1e-41f6-4942-a1c3-32dd167ecec2",
   "metadata": {},
   "source": [
    "# Training Model"
   ]
  },
  {
   "cell_type": "code",
   "execution_count": 1,
   "id": "52c41740-3335-4612-ad88-2b9eebcd5116",
   "metadata": {},
   "outputs": [
    {
     "name": "stdout",
     "output_type": "stream",
     "text": [
      "Requirement already satisfied: scikit-learn in c:\\users\\hp\\onedrive\\desktop\\ds-project2\\my_venv\\lib\\site-packages (1.7.2)\n",
      "Requirement already satisfied: numpy>=1.22.0 in c:\\users\\hp\\onedrive\\desktop\\ds-project2\\my_venv\\lib\\site-packages (from scikit-learn) (2.3.3)\n",
      "Requirement already satisfied: scipy>=1.8.0 in c:\\users\\hp\\onedrive\\desktop\\ds-project2\\my_venv\\lib\\site-packages (from scikit-learn) (1.16.1)\n",
      "Requirement already satisfied: joblib>=1.2.0 in c:\\users\\hp\\onedrive\\desktop\\ds-project2\\my_venv\\lib\\site-packages (from scikit-learn) (1.5.2)\n",
      "Requirement already satisfied: threadpoolctl>=3.1.0 in c:\\users\\hp\\onedrive\\desktop\\ds-project2\\my_venv\\lib\\site-packages (from scikit-learn) (3.6.0)\n"
     ]
    }
   ],
   "source": [
    "!pip install scikit-learn"
   ]
  },
  {
   "cell_type": "code",
   "execution_count": 1,
   "id": "051f72ac-9ed7-4650-92f3-82a42793117d",
   "metadata": {},
   "outputs": [],
   "source": [
    "# Import Libraries\n",
    "import pandas as pd\n",
    "import numpy as np\n",
    "from sklearn import metrics\n",
    "from sklearn.model_selection import train_test_split, GridSearchCV\n",
    "from sklearn.preprocessing import StandardScaler, OneHotEncoder\n",
    "from sklearn.compose import ColumnTransformer\n",
    "from sklearn.pipeline import Pipeline\n",
    "from sklearn.impute import SimpleImputer\n",
    "import warnings\n",
    "warnings.filterwarnings('ignore')\n",
    "\n",
    "# Import Models\n",
    "from sklearn.linear_model import LogisticRegression\n",
    "from sklearn.svm import SVC\n",
    "from sklearn.ensemble import RandomForestClassifier, AdaBoostClassifier\n",
    "from xgboost import XGBClassifier\n",
    "import joblib"
   ]
  },
  {
   "cell_type": "code",
   "execution_count": 2,
   "id": "ccaecbbb-cf35-4d0c-a70e-741b3e92c141",
   "metadata": {},
   "outputs": [],
   "source": [
    "# Apply Settings\n",
    "pd.set_option(\"display.max_column\", None)"
   ]
  },
  {
   "cell_type": "code",
   "execution_count": 3,
   "id": "4e42b022-c5e7-4860-862c-64ee6bdf809c",
   "metadata": {},
   "outputs": [
    {
     "data": {
      "text/html": [
       "<div>\n",
       "<style scoped>\n",
       "    .dataframe tbody tr th:only-of-type {\n",
       "        vertical-align: middle;\n",
       "    }\n",
       "\n",
       "    .dataframe tbody tr th {\n",
       "        vertical-align: top;\n",
       "    }\n",
       "\n",
       "    .dataframe thead th {\n",
       "        text-align: right;\n",
       "    }\n",
       "</style>\n",
       "<table border=\"1\" class=\"dataframe\">\n",
       "  <thead>\n",
       "    <tr style=\"text-align: right;\">\n",
       "      <th></th>\n",
       "      <th>Gender</th>\n",
       "      <th>Geography</th>\n",
       "      <th>Tenure</th>\n",
       "      <th>Contract</th>\n",
       "      <th>MonthlyCharges</th>\n",
       "      <th>TotalCharges</th>\n",
       "      <th>PaymentMethod</th>\n",
       "      <th>IsActiveMember</th>\n",
       "      <th>Churn</th>\n",
       "    </tr>\n",
       "  </thead>\n",
       "  <tbody>\n",
       "    <tr>\n",
       "      <th>0</th>\n",
       "      <td>Male</td>\n",
       "      <td>France</td>\n",
       "      <td>14</td>\n",
       "      <td>Two-year</td>\n",
       "      <td>21.58</td>\n",
       "      <td>7933.34</td>\n",
       "      <td>Bank transfer</td>\n",
       "      <td>Yes</td>\n",
       "      <td>No</td>\n",
       "    </tr>\n",
       "    <tr>\n",
       "      <th>1</th>\n",
       "      <td>Female</td>\n",
       "      <td>Spain</td>\n",
       "      <td>14</td>\n",
       "      <td>Month-to-month</td>\n",
       "      <td>27.71</td>\n",
       "      <td>5869.34</td>\n",
       "      <td>Credit card</td>\n",
       "      <td>No</td>\n",
       "      <td>Yes</td>\n",
       "    </tr>\n",
       "    <tr>\n",
       "      <th>2</th>\n",
       "      <td>Male</td>\n",
       "      <td>Germany</td>\n",
       "      <td>57</td>\n",
       "      <td>Two-year</td>\n",
       "      <td>111.12</td>\n",
       "      <td>6321.20</td>\n",
       "      <td>Bank transfer</td>\n",
       "      <td>Yes</td>\n",
       "      <td>No</td>\n",
       "    </tr>\n",
       "    <tr>\n",
       "      <th>3</th>\n",
       "      <td>Male</td>\n",
       "      <td>Spain</td>\n",
       "      <td>34</td>\n",
       "      <td>Month-to-month</td>\n",
       "      <td>55.49</td>\n",
       "      <td>7956.44</td>\n",
       "      <td>Bank transfer</td>\n",
       "      <td>No</td>\n",
       "      <td>Yes</td>\n",
       "    </tr>\n",
       "    <tr>\n",
       "      <th>4</th>\n",
       "      <td>Male</td>\n",
       "      <td>Spain</td>\n",
       "      <td>53</td>\n",
       "      <td>Two-year</td>\n",
       "      <td>62.48</td>\n",
       "      <td>4922.75</td>\n",
       "      <td>Direct debit</td>\n",
       "      <td>Yes</td>\n",
       "      <td>No</td>\n",
       "    </tr>\n",
       "  </tbody>\n",
       "</table>\n",
       "</div>"
      ],
      "text/plain": [
       "   Gender Geography  Tenure        Contract  MonthlyCharges  TotalCharges  \\\n",
       "0    Male    France      14        Two-year           21.58       7933.34   \n",
       "1  Female     Spain      14  Month-to-month           27.71       5869.34   \n",
       "2    Male   Germany      57        Two-year          111.12       6321.20   \n",
       "3    Male     Spain      34  Month-to-month           55.49       7956.44   \n",
       "4    Male     Spain      53        Two-year           62.48       4922.75   \n",
       "\n",
       "   PaymentMethod IsActiveMember Churn  \n",
       "0  Bank transfer            Yes    No  \n",
       "1    Credit card             No   Yes  \n",
       "2  Bank transfer            Yes    No  \n",
       "3  Bank transfer             No   Yes  \n",
       "4   Direct debit            Yes    No  "
      ]
     },
     "execution_count": 3,
     "metadata": {},
     "output_type": "execute_result"
    }
   ],
   "source": [
    "data = pd.read_csv(r'clean_data.csv')\n",
    "data.head()"
   ]
  },
  {
   "cell_type": "code",
   "execution_count": 4,
   "id": "cbb7a83c-4206-4122-9895-b9c40ac6427a",
   "metadata": {},
   "outputs": [
    {
     "name": "stdout",
     "output_type": "stream",
     "text": [
      "<class 'pandas.core.frame.DataFrame'>\n",
      "RangeIndex: 1000 entries, 0 to 999\n",
      "Data columns (total 9 columns):\n",
      " #   Column          Non-Null Count  Dtype  \n",
      "---  ------          --------------  -----  \n",
      " 0   Gender          1000 non-null   object \n",
      " 1   Geography       1000 non-null   object \n",
      " 2   Tenure          1000 non-null   int64  \n",
      " 3   Contract        1000 non-null   object \n",
      " 4   MonthlyCharges  1000 non-null   float64\n",
      " 5   TotalCharges    1000 non-null   float64\n",
      " 6   PaymentMethod   1000 non-null   object \n",
      " 7   IsActiveMember  1000 non-null   object \n",
      " 8   Churn           1000 non-null   object \n",
      "dtypes: float64(2), int64(1), object(6)\n",
      "memory usage: 70.4+ KB\n"
     ]
    }
   ],
   "source": [
    "# Backing up the data\n",
    "df = data.copy()\n",
    "# Explore data \n",
    "df.info()"
   ]
  },
  {
   "cell_type": "code",
   "execution_count": 5,
   "id": "6ac9db4e-96a6-460c-9b9c-7550edd07287",
   "metadata": {},
   "outputs": [
    {
     "data": {
      "text/plain": [
       "Churn\n",
       "1    502\n",
       "0    498\n",
       "Name: count, dtype: int64"
      ]
     },
     "execution_count": 5,
     "metadata": {},
     "output_type": "execute_result"
    }
   ],
   "source": [
    "# Encode Target Columns \n",
    "df['Churn'] = df['Churn'].map({'Yes': 1, 'No': 0})\n",
    "df['Churn'].value_counts()"
   ]
  },
  {
   "cell_type": "code",
   "execution_count": 6,
   "id": "f7432088-75f2-4c11-a453-e4a553b39c02",
   "metadata": {},
   "outputs": [
    {
     "name": "stdout",
     "output_type": "stream",
     "text": [
      "The Numeric columns are \n",
      " ['Tenure', 'MonthlyCharges', 'TotalCharges']\n",
      "The Categoric columns are \n",
      " ['Gender', 'Geography', 'Contract', 'PaymentMethod', 'IsActiveMember']\n"
     ]
    }
   ],
   "source": [
    "# Seperate Target\n",
    "X = df.drop(columns= ['Churn'], axis =1)\n",
    "y = df['Churn']\n",
    "\n",
    "num_columns = X.select_dtypes(include= 'number').columns.to_list()\n",
    "cat_columns = X.select_dtypes(include= 'object').columns.to_list()\n",
    "\n",
    "print('The Numeric columns are \\n', num_columns)\n",
    "print('The Categoric columns are \\n', cat_columns)"
   ]
  },
  {
   "cell_type": "code",
   "execution_count": 7,
   "id": "466ccd8c-ff39-4697-a78b-382b998ba5c7",
   "metadata": {},
   "outputs": [],
   "source": [
    "# Split Data\n",
    "X_train, X_test, y_train, y_test = train_test_split(X,y,test_size=0.2,random_state=42)"
   ]
  },
  {
   "cell_type": "code",
   "execution_count": 8,
   "id": "9f5be8eb-13fd-4559-8c3f-d03a3245acbc",
   "metadata": {},
   "outputs": [],
   "source": [
    "# Processing the data\n",
    "num_transformer = Pipeline(steps=[\n",
    "    ('imputer', SimpleImputer(strategy= 'median')),\n",
    "    ('scaler', StandardScaler())\n",
    "])\n",
    "\n",
    "cat_transformer = Pipeline(steps= [\n",
    "    ('imputer', SimpleImputer(strategy= 'most_frequent')),\n",
    "    ('encoder', OneHotEncoder(handle_unknown= 'ignore', sparse_output= False)) # sparse_ouput = False is to get dense matrix due to Machine Learning\n",
    "])\n",
    "\n",
    "# Combine Steps\n",
    "preprocessor = ColumnTransformer(transformers=[\n",
    "    ('num', num_transformer, num_columns),\n",
    "    ('cat', cat_transformer, cat_columns)\n",
    "])"
   ]
  },
  {
   "cell_type": "markdown",
   "id": "075cf745-d9f9-41ac-886f-e618140aca91",
   "metadata": {},
   "source": [
    "## Model Training"
   ]
  },
  {
   "cell_type": "code",
   "execution_count": 9,
   "id": "b8bf762b-de47-47f8-9fae-74edf26527d1",
   "metadata": {},
   "outputs": [],
   "source": [
    "# Models\n",
    "model_dict = {\n",
    "    'Logistic_Regression': LogisticRegression(max_iter=1000),\n",
    "    'SVM': SVC(probability=True),\n",
    "    'RandomForestClassifier': RandomForestClassifier(),\n",
    "    'AdaBoostClassifier': AdaBoostClassifier(),\n",
    "    'XGBoost': XGBClassifier(use_label_encoder = False, eval_metric = 'logloss')\n",
    "}\n",
    "\n",
    "# Hyperparameter\n",
    "# Generic search space\n",
    "search_space ={\n",
    "    'C': [0.1,1,10],\n",
    "    'kernal': ['linear', 'rgf'],\n",
    "    'n_estimators': [50,100,200],\n",
    "    'max_depth': [None,5,10],\n",
    "    'learning_rate': [0.5,1]\n",
    "}\n",
    "\n",
    "# Function to filter hyperparameter\n",
    "def filter_hyperparameter(model, space):\n",
    "    valid_keys = model.get_params().keys()\n",
    "    return {k:v for k, v in space.items() if k in valid_keys}"
   ]
  },
  {
   "cell_type": "code",
   "execution_count": 10,
   "id": "affd67e7-76b5-4100-a994-97f9cdcaa5c7",
   "metadata": {},
   "outputs": [
    {
     "name": "stdout",
     "output_type": "stream",
     "text": [
      "Tuning LogisticRegression(max_iter=1000)...\n",
      "Tuning SVC(probability=True)...\n",
      "Tuning RandomForestClassifier()...\n",
      "Tuning AdaBoostClassifier()...\n",
      "Tuning XGBClassifier(base_score=None, booster=None, callbacks=None,\n",
      "              colsample_bylevel=None, colsample_bynode=None,\n",
      "              colsample_bytree=None, device=None, early_stopping_rounds=None,\n",
      "              enable_categorical=False, eval_metric='logloss',\n",
      "              feature_types=None, feature_weights=None, gamma=None,\n",
      "              grow_policy=None, importance_type=None,\n",
      "              interaction_constraints=None, learning_rate=None, max_bin=None,\n",
      "              max_cat_threshold=None, max_cat_to_onehot=None,\n",
      "              max_delta_step=None, max_depth=None, max_leaves=None,\n",
      "              min_child_weight=None, missing=nan, monotone_constraints=None,\n",
      "              multi_strategy=None, n_estimators=None, n_jobs=None,\n",
      "              num_parallel_tree=None, ...)...\n"
     ]
    }
   ],
   "source": [
    "# Grid Search for each model\n",
    "result = []\n",
    "best_pipeline = {}\n",
    "\n",
    "for name, model in model_dict.items():\n",
    "    print(f'Tuning {model}...')\n",
    "    pipe = Pipeline(steps = [\n",
    "        ('processor', preprocessor),\n",
    "        ('model', model)\n",
    "    ])\n",
    "    hyperparameter = filter_hyperparameter(model, search_space)\n",
    "    # Prefix model name\n",
    "    param_grid = {f'model__{k}':v for k,v in hyperparameter.items()}\n",
    "    grid = GridSearchCV(estimator= pipe, param_grid=param_grid, cv =5, scoring= 'accuracy', n_jobs=-1)\n",
    "    grid.fit(X_train,y_train)\n",
    "\n",
    "    y_pred = grid.predict(X_test)\n",
    "    report = metrics.classification_report(y_test,y_pred, output_dict= True) # output_dict = True because the result will come in dictionary\n",
    "    \n",
    "    result.append({\n",
    "        'model_name': name, \n",
    "        'best_parameters': param_grid,\n",
    "        'accuracy': round(metrics.accuracy_score(y_test,y_pred), 4),\n",
    "        'f1-score': round(report['weighted avg']['f1-score'], 4)\n",
    "    })\n",
    "\n",
    "    best_pipeline[name] = grid.best_estimator_"
   ]
  },
  {
   "cell_type": "code",
   "execution_count": 11,
   "id": "382c19ff-1959-4f81-a4c0-c90b51f8463f",
   "metadata": {},
   "outputs": [
    {
     "name": "stdout",
     "output_type": "stream",
     "text": [
      "[{'model_name': 'Logistic_Regression', 'best_parameters': {'model__C': [0.1, 1, 10]}, 'accuracy': 0.49, 'f1-score': 0.49}, {'model_name': 'SVM', 'best_parameters': {'model__C': [0.1, 1, 10]}, 'accuracy': 0.53, 'f1-score': 0.5283}, {'model_name': 'RandomForestClassifier', 'best_parameters': {'model__n_estimators': [50, 100, 200], 'model__max_depth': [None, 5, 10]}, 'accuracy': 0.555, 'f1-score': 0.5549}, {'model_name': 'AdaBoostClassifier', 'best_parameters': {'model__n_estimators': [50, 100, 200], 'model__learning_rate': [0.5, 1]}, 'accuracy': 0.525, 'f1-score': 0.5215}, {'model_name': 'XGBoost', 'best_parameters': {'model__n_estimators': [50, 100, 200], 'model__max_depth': [None, 5, 10], 'model__learning_rate': [0.5, 1]}, 'accuracy': 0.505, 'f1-score': 0.5044}]\n"
     ]
    }
   ],
   "source": [
    "print(result)"
   ]
  },
  {
   "cell_type": "code",
   "execution_count": 12,
   "id": "c7a7ed9a-a074-4e01-a625-3247aa312f0e",
   "metadata": {},
   "outputs": [
    {
     "name": "stdout",
     "output_type": "stream",
     "text": [
      "\n",
      "Model Comparisons: \n",
      "                model_name                                    best_parameters  \\\n",
      "2  RandomForestClassifier  {'model__n_estimators': [50, 100, 200], 'model...   \n",
      "1                     SVM                         {'model__C': [0.1, 1, 10]}   \n",
      "3      AdaBoostClassifier  {'model__n_estimators': [50, 100, 200], 'model...   \n",
      "4                 XGBoost  {'model__n_estimators': [50, 100, 200], 'model...   \n",
      "0     Logistic_Regression                         {'model__C': [0.1, 1, 10]}   \n",
      "\n",
      "   accuracy  f1-score  \n",
      "2     0.555    0.5549  \n",
      "1     0.530    0.5283  \n",
      "3     0.525    0.5215  \n",
      "4     0.505    0.5044  \n",
      "0     0.490    0.4900  \n",
      "\n",
      "Best Model: RandomForestClassifier\n",
      "\n",
      "Best Hyperparameter: {'model__n_estimators': [50, 100, 200], 'model__max_depth': [None, 5, 10]}\n"
     ]
    }
   ],
   "source": [
    "# Comapare the models\n",
    "result_df = pd.DataFrame(result)\n",
    "sorted_result_df = result_df.sort_values(by = 'accuracy', ascending = False)\n",
    "print('\\nModel Comparisons: \\n', sorted_result_df)\n",
    "\n",
    "# Best Model\n",
    "best_row = sorted_result_df.iloc[0]\n",
    "best_model = best_row['model_name']\n",
    "print('\\nBest Model:', best_model)\n",
    "print('\\nBest Hyperparameter:', best_row['best_parameters'])"
   ]
  },
  {
   "cell_type": "code",
   "execution_count": 13,
   "id": "4bccd1b4-234c-481a-81d1-43c12442d23b",
   "metadata": {},
   "outputs": [
    {
     "name": "stdout",
     "output_type": "stream",
     "text": [
      "The deployment model is saved as: churn_pipeline.pkl\n"
     ]
    }
   ],
   "source": [
    "# Retraining best model on full data set\n",
    "final_pipeline= best_pipeline[best_model]\n",
    "final_pipeline.fit(X,y)\n",
    "\n",
    "# Save pipeline\n",
    "joblib.dump(final_pipeline, \"churn_pipeline.pkl\")\n",
    "print(\"The deployment model is saved as: churn_pipeline.pkl\")"
   ]
  },
  {
   "cell_type": "code",
   "execution_count": null,
   "id": "7e6ef87d-bf7a-4228-8507-8154f4772327",
   "metadata": {},
   "outputs": [],
   "source": []
  }
 ],
 "metadata": {
  "kernelspec": {
   "display_name": "Python 3 (ipykernel)",
   "language": "python",
   "name": "python3"
  },
  "language_info": {
   "codemirror_mode": {
    "name": "ipython",
    "version": 3
   },
   "file_extension": ".py",
   "mimetype": "text/x-python",
   "name": "python",
   "nbconvert_exporter": "python",
   "pygments_lexer": "ipython3",
   "version": "3.13.7"
  }
 },
 "nbformat": 4,
 "nbformat_minor": 5
}
